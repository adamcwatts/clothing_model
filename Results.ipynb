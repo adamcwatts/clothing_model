{
 "cells": [
  {
   "cell_type": "markdown",
   "metadata": {},
   "source": [
    "#  Python Numerical Results\n",
    "\n",
    "##### Symbols:\n",
    "1. $T \\equiv$ Temperature \n",
    "2. $RH \\equiv$ Relative Humidity \n",
    "3. $\\rho \\equiv$ Density \n",
    "4. $C \\equiv$ Specific Heat\n",
    "5. $L \\equiv$ Length/Thickness of fabric\n",
    "6. $R_{e,f} \\equiv$ Evaporative Resistance of the Fabric\n",
    "7. $\\lambda \\equiv$ Thermal Conductivity\n",
    "8. $\\gamma \\equiv$ Porosity of Fabric\n",
    "9. $\\epsilon \\equiv$ emissivity of Fabric\n",
    " \n",
    "#### Boundary Conditions:\n",
    "1. $T_{air} = T_{Hot Plate} = 35 ^{\\circ}$C\n",
    "2. $RH_{air} = 40\\%$\n",
    "3. $RH_{Hot Plate} = 100\\%$\n",
    "\n",
    "#### Initial Conditions:\n",
    "1. $T_{fabric}= 33.7^{\\circ}$C\n",
    "2. $RH_{fabric} = 35\\%$\n",
    "\n",
    "#### Material Properties:\n",
    "\n",
    "Fabric and/or Wool Fiber :\n",
    "1. $Regain_{wool}=15\\%$\n",
    "\n",
    "2. $\\rho_{wool fiber} = 1300 \\frac{g}{m^3}$ \n",
    "\n",
    "3. $C_{wool fiber} = 1360 \\frac{J}{kg K}$ \n",
    "\n",
    "4. $L_{fabric} = 8.57 mm$\n",
    "\n",
    "5. $R_{e,f} = 23.4 \\frac{m^2 Pa}{W}$\n",
    "\n",
    "6. $\\lambda_{fabric, dry} = 0.042 \\frac{W}{mK} $\n",
    "\n",
    "7. $\\epsilon_{fabric} = 0.95$\n",
    "\n",
    "\n",
    "\n",
    "Water:\n",
    "\n",
    "1. $C_{water} = 4179 \\frac{J}{kg K}$ \n",
    "2. $\\lambda_{water} = 0.613 \\frac{W}{mK} $"
   ]
  },
  {
   "cell_type": "markdown",
   "metadata": {},
   "source": [
    "Hygroscopic fibers, such as wool, absorb water from the ambient air. This occurs when the fabric's relative humidity (RH) is lower than that of the surrounding air. In this case, the sweating hot plate has  a RH of 100% while the ambient air has a RH of 40%. The wool fabric is pre-conditioned to a RH of 35%. The video shows how temperature changes within the fabric due to heat and mass transfer.\n"
   ]
  },
  {
   "cell_type": "markdown",
   "metadata": {},
   "source": [
    "\n",
    "\n",
    "![SegmentLocal](VIDEOS/temp_time.gif \"Temperature_Location_solution\")\n",
    "\n",
    "![SegmentLocal](VIDEOS/rh_time_smaller.gif \"Relative_Humidity_Location_solution\")\n"
   ]
  },
  {
   "cell_type": "markdown",
   "metadata": {},
   "source": [
    "After each iteration, 0.05 seconds, material parameters ($\\rho$, $C$, $\\lambda$, etc...) are updated taking into acount the water sorption with fabric. Heat is evolved(produced) during the sorption process, which explains the large changes in temperature at the beginning of the video when the fabric is exposed to the high RH of the sweating hot plate.\n",
    "\n",
    "Eventually the fabic comes into equilbirium with the sweating hot plate and the ambient environment and we see a flat steady-state temperature."
   ]
  }
 ],
 "metadata": {
  "kernelspec": {
   "display_name": "Python 3",
   "language": "python",
   "name": "python3"
  },
  "language_info": {
   "codemirror_mode": {
    "name": "ipython",
    "version": 3
   },
   "file_extension": ".py",
   "mimetype": "text/x-python",
   "name": "python",
   "nbconvert_exporter": "python",
   "pygments_lexer": "ipython3",
   "version": "3.7.3"
  }
 },
 "nbformat": 4,
 "nbformat_minor": 2
}
